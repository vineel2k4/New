{
 "cells": [
  {
   "cell_type": "code",
   "execution_count": 2,
   "id": "82b79d09-d4d3-4257-8973-e458d4b94ca3",
   "metadata": {},
   "outputs": [
    {
     "name": "stdout",
     "output_type": "stream",
     "text": [
      "Integer Variable:\n",
      "10\n",
      "Type: <class 'int'>\n",
      "\n",
      "Float Variable:\n",
      "10.5\n",
      "Type: <class 'float'>\n",
      "\n",
      "String Variable:\n",
      "Hello, World!\n",
      "Type: <class 'str'>\n",
      "\n",
      "Boolean Variable:\n",
      "True\n",
      "Type: <class 'bool'>\n"
     ]
    }
   ],
   "source": [
    "integer_var = 10                \n",
    "float_var = 10.5                \n",
    "string_var = \"Hello, World!\"    \n",
    "boolean_var = True           \n",
    "print(\"Integer Variable:\")\n",
    "print(integer_var)\n",
    "print(\"Type:\", type(integer_var))\n",
    "print(\"\\nFloat Variable:\")\n",
    "print(float_var)\n",
    "print(\"Type:\", type(float_var))\n",
    "print(\"\\nString Variable:\")\n",
    "print(string_var)\n",
    "print(\"Type:\", type(string_var))\n",
    "print(\"\\nBoolean Variable:\")\n",
    "print(boolean_var)\n",
    "print(\"Type:\", type(boolean_var))"
   ]
  },
  {
   "cell_type": "code",
   "execution_count": null,
   "id": "12250b76-6641-4303-a89f-1405cf7ff72e",
   "metadata": {},
   "outputs": [],
   "source": []
  }
 ],
 "metadata": {
  "kernelspec": {
   "display_name": "Python [conda env:base] *",
   "language": "python",
   "name": "conda-base-py"
  },
  "language_info": {
   "codemirror_mode": {
    "name": "ipython",
    "version": 3
   },
   "file_extension": ".py",
   "mimetype": "text/x-python",
   "name": "python",
   "nbconvert_exporter": "python",
   "pygments_lexer": "ipython3",
   "version": "3.12.7"
  }
 },
 "nbformat": 4,
 "nbformat_minor": 5
}

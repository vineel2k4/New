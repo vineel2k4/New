{
 "cells": [
  {
   "cell_type": "code",
   "execution_count": 2,
   "id": "71f5d743-3bed-46d6-97de-5d39f3782789",
   "metadata": {},
   "outputs": [
    {
     "name": "stdout",
     "output_type": "stream",
     "text": [
      "List:\n",
      "First element: 10\n",
      "Third element: 30\n",
      "Last element: 50\n"
     ]
    }
   ],
   "source": [
    "my_list = [10, 20, 30, 40, 50]\n",
    "print(\"List:\")\n",
    "print(\"First element:\", my_list[0])  \n",
    "print(\"Third element:\", my_list[2])   \n",
    "print(\"Last element:\", my_list[-1])     "
   ]
  },
  {
   "cell_type": "code",
   "execution_count": 4,
   "id": "6bd63ba9-a237-4307-a1f8-d193b7b4ace9",
   "metadata": {},
   "outputs": [
    {
     "name": "stdout",
     "output_type": "stream",
     "text": [
      "\n",
      "Tuple:\n",
      "Second element: Hello\n",
      "Fourth element: [1, 2, 3]\n",
      "Last element: None\n"
     ]
    }
   ],
   "source": [
    "my_tuple = (1.5, \"Hello\", True, [1, 2, 3], None)\n",
    "print(\"\\nTuple:\")\n",
    "print(\"Second element:\", my_tuple[1]) \n",
    "print(\"Fourth element:\", my_tuple[3])  \n",
    "print(\"Last element:\", my_tuple[-1]) "
   ]
  },
  {
   "cell_type": "code",
   "execution_count": 6,
   "id": "bb6f8bf2-7021-44d8-9be4-11a527a11cc4",
   "metadata": {},
   "outputs": [
    {
     "name": "stdout",
     "output_type": "stream",
     "text": [
      "\n",
      "Dictionary:\n",
      "Name: Alice\n",
      "Age: 30\n",
      "Hobbies: ['reading', 'traveling']\n"
     ]
    }
   ],
   "source": [
    "my_dict = {\n",
    "    \"name\": \"Alice\",\n",
    "    \"age\": 30,\n",
    "    \"city\": \"New York\",\n",
    "    \"is_student\": False,\n",
    "    \"hobbies\": [\"reading\", \"traveling\"]\n",
    "}\n",
    "print(\"\\nDictionary:\")\n",
    "print(\"Name:\", my_dict[\"name\"])          \n",
    "print(\"Age:\", my_dict[\"age\"])         \n",
    "print(\"Hobbies:\", my_dict[\"hobbies\"])  "
   ]
  },
  {
   "cell_type": "code",
   "execution_count": null,
   "id": "59888751-8b59-4e04-8543-eec65027ab41",
   "metadata": {},
   "outputs": [],
   "source": []
  }
 ],
 "metadata": {
  "kernelspec": {
   "display_name": "Python [conda env:base] *",
   "language": "python",
   "name": "conda-base-py"
  },
  "language_info": {
   "codemirror_mode": {
    "name": "ipython",
    "version": 3
   },
   "file_extension": ".py",
   "mimetype": "text/x-python",
   "name": "python",
   "nbconvert_exporter": "python",
   "pygments_lexer": "ipython3",
   "version": "3.12.7"
  }
 },
 "nbformat": 4,
 "nbformat_minor": 5
}

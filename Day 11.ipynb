{
 "cells": [
  {
   "cell_type": "code",
   "execution_count": 1,
   "id": "71dde9d3-33a6-49de-9427-118f13a3b0ea",
   "metadata": {},
   "outputs": [
    {
     "name": "stdout",
     "output_type": "stream",
     "text": [
      "Title of the webpage: Example Domain\n"
     ]
    }
   ],
   "source": [
    "import requests\n",
    "from bs4 import BeautifulSoup\n",
    "\n",
    "def fetch_title(url):\n",
    "    response = requests.get(url)\n",
    "    soup = BeautifulSoup(response.content, 'html.parser')\n",
    "    title = soup.title.string\n",
    "    return title\n",
    "\n",
    "url = 'https://example.com'\n",
    "title = fetch_title(url)\n",
    "\n",
    "print(\"Title of the webpage:\", title)\n"
   ]
  },
  {
   "cell_type": "code",
   "execution_count": null,
   "id": "3131457b-a643-47a4-897b-bd3f0ed100f8",
   "metadata": {},
   "outputs": [],
   "source": []
  }
 ],
 "metadata": {
  "kernelspec": {
   "display_name": "Python [conda env:base] *",
   "language": "python",
   "name": "conda-base-py"
  },
  "language_info": {
   "codemirror_mode": {
    "name": "ipython",
    "version": 3
   },
   "file_extension": ".py",
   "mimetype": "text/x-python",
   "name": "python",
   "nbconvert_exporter": "python",
   "pygments_lexer": "ipython3",
   "version": "3.12.7"
  }
 },
 "nbformat": 4,
 "nbformat_minor": 5
}

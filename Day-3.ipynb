{
 "cells": [
  {
   "cell_type": "code",
   "execution_count": 2,
   "id": "42f6c65b-7484-4905-97b4-93cf340a6643",
   "metadata": {},
   "outputs": [
    {
     "name": "stdin",
     "output_type": "stream",
     "text": [
      "Enter marks for subject 1:  100\n",
      "Enter marks for subject 2:  85\n",
      "Enter marks for subject 3:  62\n"
     ]
    },
    {
     "name": "stdout",
     "output_type": "stream",
     "text": [
      "Average Marks: 82.33\n",
      "Grade: B\n"
     ]
    }
   ],
   "source": [
    "def determine_grade(marks):\n",
    "    average = sum(marks) / len(marks)\n",
    "    print(f\"Average Marks: {average:.2f}\")\n",
    "\n",
    "    if average >= 90:\n",
    "        return \"Grade: A\"\n",
    "    elif 80 <= average < 90:\n",
    "        return \"Grade: B\"\n",
    "    elif 70 <= average < 80:\n",
    "        return \"Grade: C\"\n",
    "    else:\n",
    "        return \"Grade: Fail\"\n",
    "\n",
    "if __name__ == \"__main__\":\n",
    "    try:\n",
    "        marks = []\n",
    "        for i in range(1, 4):\n",
    "            mark = float(input(f\"Enter marks for subject {i}: \"))\n",
    "            marks.append(mark)\n",
    "\n",
    "        grade = determine_grade(marks)\n",
    "        print(grade)\n",
    "\n",
    "    except ValueError:\n",
    "        print(\"Please enter valid numeric marks.\")"
   ]
  },
  {
   "cell_type": "code",
   "execution_count": null,
   "id": "50ccc4d9-d368-4f3a-9cbb-75bd4aba4ff3",
   "metadata": {},
   "outputs": [],
   "source": []
  }
 ],
 "metadata": {
  "kernelspec": {
   "display_name": "Python [conda env:base] *",
   "language": "python",
   "name": "conda-base-py"
  },
  "language_info": {
   "codemirror_mode": {
    "name": "ipython",
    "version": 3
   },
   "file_extension": ".py",
   "mimetype": "text/x-python",
   "name": "python",
   "nbconvert_exporter": "python",
   "pygments_lexer": "ipython3",
   "version": "3.12.7"
  }
 },
 "nbformat": 4,
 "nbformat_minor": 5
}

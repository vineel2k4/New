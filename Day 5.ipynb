{
 "cells": [
  {
   "cell_type": "code",
   "execution_count": 1,
   "id": "646cb356-b450-49a8-ae73-9327c533fa0e",
   "metadata": {},
   "outputs": [
    {
     "name": "stdout",
     "output_type": "stream",
     "text": [
      "natural: 2\n",
      "language: 2\n",
      "processing: 1\n",
      "nlp: 1\n",
      "is: 1\n",
      "a: 1\n",
      "fascinating: 1\n",
      "field: 1\n",
      "of: 1\n",
      "artificial: 1\n",
      "intelligence: 1\n",
      "it: 1\n",
      "involves: 1\n",
      "the: 1\n",
      "interaction: 1\n",
      "between: 1\n",
      "computers: 1\n",
      "and: 1\n",
      "humans: 1\n",
      "using: 1\n"
     ]
    }
   ],
   "source": [
    "from collections import Counter\n",
    "import re\n",
    "\n",
    "text = \"\"\"Natural Language Processing (NLP) is a fascinating field of Artificial Intelligence.\n",
    "It involves the interaction between computers and humans using natural language.\"\"\"\n",
    "\n",
    "text = text.lower()\n",
    "text = re.sub(r'[^\\w\\s]', '', text)\n",
    "\n",
    "words = text.split()\n",
    "\n",
    "word_counts = Counter(words)\n",
    "\n",
    "for word, count in word_counts.items():\n",
    "    print(f\"{word}: {count}\")\n"
   ]
  },
  {
   "cell_type": "code",
   "execution_count": null,
   "id": "e6c2d91c-1d0c-46f8-87df-169445645fb5",
   "metadata": {},
   "outputs": [],
   "source": []
  }
 ],
 "metadata": {
  "kernelspec": {
   "display_name": "Python [conda env:base] *",
   "language": "python",
   "name": "conda-base-py"
  },
  "language_info": {
   "codemirror_mode": {
    "name": "ipython",
    "version": 3
   },
   "file_extension": ".py",
   "mimetype": "text/x-python",
   "name": "python",
   "nbconvert_exporter": "python",
   "pygments_lexer": "ipython3",
   "version": "3.12.7"
  }
 },
 "nbformat": 4,
 "nbformat_minor": 5
}

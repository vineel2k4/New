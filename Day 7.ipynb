{
 "cells": [
  {
   "cell_type": "code",
   "execution_count": 3,
   "id": "e1c4641d-1b14-481e-b840-2bf59b2b45ba",
   "metadata": {},
   "outputs": [
    {
     "name": "stdout",
     "output_type": "stream",
     "text": [
      "Original Text: This is a sample text to demonstrate the use of Gensim for preprocessing.\n",
      "Tokens: ['sample', 'text', 'demonstrate', 'use', 'gensim', 'preprocessing']\n",
      "Stemmed Tokens: ['sampl', 'text', 'demonstr', 'use', 'gensim', 'preprocess']\n",
      "Lemmatized Tokens: ['sampl', 'text', 'demonstr', 'use', 'gensim', 'preprocess']\n"
     ]
    }
   ],
   "source": [
    "import gensim\n",
    "from gensim.utils import simple_preprocess\n",
    "from gensim.parsing.preprocessing import STOPWORDS\n",
    "from nltk.stem import SnowballStemmer\n",
    "import spacy\n",
    "nlp = spacy.load('en_core_web_sm')\n",
    "stemmer = SnowballStemmer('english')\n",
    "text = \"This is a sample text to demonstrate the use of Gensim for preprocessing.\"\n",
    "tokens = simple_preprocess(text, deacc=True)\n",
    "tokens = [token for token in tokens if token not in STOPWORDS]\n",
    "stemmed_tokens = [stemmer.stem(token) for token in tokens]\n",
    "doc = nlp(' '.join(stemmed_tokens))\n",
    "lemmatized_tokens = [token.lemma_ for token in doc]\n",
    "print(\"Original Text:\", text)\n",
    "print(\"Tokens:\", tokens)\n",
    "print(\"Stemmed Tokens:\", stemmed_tokens)\n",
    "print(\"Lemmatized Tokens:\", lemmatized_tokens)\n"
   ]
  },
  {
   "cell_type": "code",
   "execution_count": null,
   "id": "bf28ca30-216f-4e4f-8e1e-1aed4d792f24",
   "metadata": {},
   "outputs": [],
   "source": []
  }
 ],
 "metadata": {
  "kernelspec": {
   "display_name": "Python [conda env:base] *",
   "language": "python",
   "name": "conda-base-py"
  },
  "language_info": {
   "codemirror_mode": {
    "name": "ipython",
    "version": 3
   },
   "file_extension": ".py",
   "mimetype": "text/x-python",
   "name": "python",
   "nbconvert_exporter": "python",
   "pygments_lexer": "ipython3",
   "version": "3.12.7"
  }
 },
 "nbformat": 4,
 "nbformat_minor": 5
}

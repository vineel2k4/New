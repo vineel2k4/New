{
 "cells": [
  {
   "cell_type": "code",
   "execution_count": 2,
   "id": "e0a99705",
   "metadata": {},
   "outputs": [
    {
     "name": "stdout",
     "output_type": "stream",
     "text": [
      "Integer Variable: 10 Type: <class 'int'>\n",
      "Float Variable: 10.5 Type: <class 'float'>\n",
      "String Variable: Hello World Type: <class 'str'>\n",
      "Boolean Variable: True Type: <class 'bool'>\n"
     ]
    }
   ],
   "source": [
    "#DAY 1\n",
    "a = 10             \n",
    "b = 10.5             \n",
    "c = \"Hello World\"   \n",
    "d = True           \n",
    "\n",
    "print(\"Integer Variable:\", a, \"Type:\", type(a))\n",
    "print(\"Float Variable:\", b, \"Type:\", type(b))\n",
    "print(\"String Variable:\", c, \"Type:\", type(c))\n",
    "print(\"Boolean Variable:\", d, \"Type:\", type(d))\n"
   ]
  },
  {
   "cell_type": "code",
   "execution_count": 3,
   "id": "50237e40",
   "metadata": {},
   "outputs": [
    {
     "name": "stdout",
     "output_type": "stream",
     "text": [
      "First element (index 0): 10\n",
      "Second element (index 1): apple\n",
      "Last element (index -1): banana\n"
     ]
    }
   ],
   "source": [
    "#day 2\n",
    "a = [10, \"apple\", 3.14, True, \"banana\"]\n",
    "\n",
    "print(\"First element (index 0):\", a[0]) \n",
    "print(\"Second element (index 1):\", a[1])  \n",
    "print(\"Last element (index -1):\", a[-1])  \n"
   ]
  },
  {
   "cell_type": "code",
   "execution_count": 4,
   "id": "8c350456",
   "metadata": {},
   "outputs": [
    {
     "name": "stdout",
     "output_type": "stream",
     "text": [
      "First element (index 0): 10\n",
      "Third element (index 2): 3.14\n",
      "Last element (index -1): banana\n"
     ]
    }
   ],
   "source": [
    "# DAY 2\n",
    "a= (10, \"apple\", 3.14, True, \"banana\")\n",
    "\n",
    "\n",
    "print(\"First element (index 0):\", a[0]) \n",
    "print(\"Third element (index 2):\", a[2]) \n",
    "print(\"Last element (index -1):\", a[-1]) \n"
   ]
  },
  {
   "cell_type": "code",
   "execution_count": 7,
   "id": "284539ba",
   "metadata": {},
   "outputs": [
    {
     "name": "stdout",
     "output_type": "stream",
     "text": [
      "Name: Alice\n",
      "Age: 25\n",
      "Job: Engineer\n",
      "First key (index 0): name\n",
      "First value (index 0): Alice\n"
     ]
    }
   ],
   "source": [
    "# DAY 2\n",
    "my_dict = {\"name\": \"Alice\", \"age\": 25, \"city\": \"New York\", \"job\": \"Engineer\", \"is_student\": False}\n",
    "\n",
    "\n",
    "print(\"Name:\", my_dict[\"name\"])  # Alice\n",
    "print(\"Age:\", my_dict[\"age\"])  # 25\n",
    "print(\"Job:\", my_dict[\"job\"])  # Engineer\n",
    "\n",
    "\n",
    "keys = list(my_dict.keys())\n",
    "values = list(my_dict.values())\n",
    "\n",
    "print(\"First key (index 0):\", keys[0])\n",
    "print(\"First value (index 0):\", values[0])  \n"
   ]
  },
  {
   "cell_type": "code",
   "execution_count": 1,
   "id": "ad285286",
   "metadata": {},
   "outputs": [],
   "source": [
    "#DAY 3\n",
    "\n",
    "a = float(input(\"Enter marks for subject 1: \"))\n",
    "b = float(input(\"Enter marks for subject 2: \"))\n",
    "c = float(input(\"Enter marks for subject 3: \"))\n",
    "\n",
    "\n",
    "average = (a + b + c) / 3\n",
    "\n",
    "\n",
    "if average >= 90:\n",
    "    print(\"Grade: A\")\n",
    "elif 80 <= average < 90:\n",
    "    print(\"Grade: B\")\n",
    "elif 70 <= average < 80:\n",
    "    print(\"Grade: C\")\n",
    "else:\n",
    "    print(\"Grade: Fail\")\n"
   ]
  },
  {
   "cell_type": "code",
   "execution_count": 10,
   "id": "879b655a",
   "metadata": {},
   "outputs": [
    {
     "name": "stdout",
     "output_type": "stream",
     "text": [
      "Enter a positive integer n: 10\n",
      "The sum of all even numbers between 1 and 10 is: 30\n"
     ]
    }
   ],
   "source": [
    "#DAY 4\n",
    "\n",
    "n = int(input(\"Enter a positive integer n: \"))\n",
    "even_sum = 0\n",
    "for i in range(2, n + 1, 2): \n",
    "    even_sum += i  \n",
    "print(f\"The sum of all even numbers between 1 and {n} is: {even_sum}\")\n"
   ]
  },
  {
   "cell_type": "code",
   "execution_count": null,
   "id": "bae2df83",
   "metadata": {},
   "outputs": [],
   "source": []
  }
 ],
 "metadata": {
  "kernelspec": {
   "display_name": "Python 3 (ipykernel)",
   "language": "python",
   "name": "python3"
  },
  "language_info": {
   "codemirror_mode": {
    "name": "ipython",
    "version": 3
   },
   "file_extension": ".py",
   "mimetype": "text/x-python",
   "name": "python",
   "nbconvert_exporter": "python",
   "pygments_lexer": "ipython3",
   "version": "3.12.3"
  }
 },
 "nbformat": 4,
 "nbformat_minor": 5
}

{
 "cells": [
  {
   "cell_type": "code",
   "execution_count": 3,
   "id": "a685fc55-dfef-422f-a65f-fa3e56d52c9e",
   "metadata": {},
   "outputs": [
    {
     "name": "stdout",
     "output_type": "stream",
     "text": [
      "Original Integer: 39\n",
      "Result after multiplication: 78\n"
     ]
    }
   ],
   "source": [
    "my_int=39\n",
    "print(\"Original Integer:\",my_int)\n",
    "result=my_int*2\n",
    "print(\"Result after multiplication:\",result)"
   ]
  },
  {
   "cell_type": "code",
   "execution_count": 4,
   "id": "68be5bce-4054-4508-ab05-e59825eec8df",
   "metadata": {},
   "outputs": [
    {
     "name": "stdout",
     "output_type": "stream",
     "text": [
      "Original list: [1, 'Hello', 3.14, True]\n",
      "List after removing 3.14: [1, 'Hello', True]\n"
     ]
    }
   ],
   "source": [
    "my_list=[1,\"Hello\",3.14,True]\n",
    "print(\"Original list:\",my_list)\n",
    "my_list.remove(3.14)\n",
    "print(\"List after removing 3.14:\",my_list)"
   ]
  },
  {
   "cell_type": "code",
   "execution_count": 6,
   "id": "aa96cc61-e0f1-4e4b-bdee-0a37a07576ea",
   "metadata": {},
   "outputs": [
    {
     "name": "stdout",
     "output_type": "stream",
     "text": [
      "Original Value: (1, 'apple', 3.14, False)\n",
      "First Element: 1\n",
      "Last Element: True\n"
     ]
    }
   ],
   "source": [
    "my_tuple=(1,\"apple\",3.14,False)\n",
    "print(\"Original Value:\",my_tuple)\n",
    "print(\"First Element:\",my_list[0])\n",
    "print(\"Last Element:\",my_list[-1])"
   ]
  },
  {
   "cell_type": "code",
   "execution_count": 8,
   "id": "4cb9df4a-b612-471c-98de-3ab7d22654ee",
   "metadata": {},
   "outputs": [
    {
     "name": "stdout",
     "output_type": "stream",
     "text": [
      "Original Set: {1, 2, 3, 4, 5, 6}\n",
      "Set after adding 6: {1, 2, 3, 4, 5, 6, 7}\n"
     ]
    }
   ],
   "source": [
    "my_set={1,2,3,4,5,6}\n",
    "print(\"Original Set:\",my_set)\n",
    "my_set.add(7)\n",
    "print(\"Set after adding 6:\",my_set)"
   ]
  },
  {
   "cell_type": "code",
   "execution_count": 9,
   "id": "dd8ae69e-84e2-408b-bcf8-f349a5c4f084",
   "metadata": {},
   "outputs": [
    {
     "name": "stdout",
     "output_type": "stream",
     "text": [
      "Original Dictionary: {'name': 'Pavan', 'age': 20, 'City': 'Hyderabad'}\n"
     ]
    }
   ],
   "source": [
    "my_dict={\"name\":\"Pavan\",\"age\":20,\"City\":\"Hyderabad\"}\n",
    "print(\"Original Dictionary:\",my_dict)"
   ]
  },
  {
   "cell_type": "code",
   "execution_count": 23,
   "id": "629edcf9-4797-40e7-96b0-e60c95be197f",
   "metadata": {},
   "outputs": [
    {
     "name": "stdout",
     "output_type": "stream",
     "text": [
      "List after inserting at the beginning: [0, 1, 2, 3, 4, 5]\n",
      "List after inserting in the middle: [0, 1, 2, 3, 4, 5, 6]\n"
     ]
    }
   ],
   "source": [
    "my_list1=[1,2,3,4,5]\n",
    "my_list1.insert(0,0)\n",
    "print(\"List after inserting at the beginning:\",my_list1)\n",
    "middle_index=len(my_list1)\n",
    "my_list1.insert(middle_index,6)\n",
    "print(\"List after inserting in the middle:\",my_list1)"
   ]
  },
  {
   "cell_type": "code",
   "execution_count": 26,
   "id": "da51ec2e-a14c-4d35-8668-84551e76d588",
   "metadata": {},
   "outputs": [
    {
     "name": "stdout",
     "output_type": "stream",
     "text": [
      "\n",
      "Slicing with step(start:stop:step):\n",
      "[1, 3, 5]\n"
     ]
    }
   ],
   "source": [
    "print(\"\\nSlicing with step(start:stop:step):\")\n",
    "print(my_list1[1:8:2])"
   ]
  },
  {
   "cell_type": "code",
   "execution_count": 27,
   "id": "43ca9d69-7c95-4581-8a18-c0288d8d0aa0",
   "metadata": {},
   "outputs": [
    {
     "name": "stdout",
     "output_type": "stream",
     "text": [
      "\n",
      "Slicing with negative index:\n",
      "[2, 3, 4]\n"
     ]
    }
   ],
   "source": [
    "print(\"\\nSlicing with negative index:\")\n",
    "print(my_list1[-5:-2])"
   ]
  },
  {
   "cell_type": "code",
   "execution_count": 28,
   "id": "880f52b3-7a4c-4121-b09e-60d9d88a7c1b",
   "metadata": {},
   "outputs": [
    {
     "name": "stdout",
     "output_type": "stream",
     "text": [
      "\n",
      "Reversing the list using slicing:\n",
      "[6, 5, 4, 3, 2, 1, 0]\n"
     ]
    }
   ],
   "source": [
    "print(\"\\nReversing the list using slicing:\")\n",
    "print(my_list1[::-1])"
   ]
  },
  {
   "cell_type": "code",
   "execution_count": 1,
   "id": "f1564c34-8c66-4fe2-b2b6-66fb927badf3",
   "metadata": {},
   "outputs": [
    {
     "name": "stdout",
     "output_type": "stream",
     "text": [
      "['__add__', '__class__', '__contains__', '__delattr__', '__dir__', '__doc__', '__eq__', '__format__', '__ge__', '__getattribute__', '__getitem__', '__getnewargs__', '__getstate__', '__gt__', '__hash__', '__init__', '__init_subclass__', '__iter__', '__le__', '__len__', '__lt__', '__mod__', '__mul__', '__ne__', '__new__', '__reduce__', '__reduce_ex__', '__repr__', '__rmod__', '__rmul__', '__setattr__', '__sizeof__', '__str__', '__subclasshook__', 'capitalize', 'casefold', 'center', 'count', 'encode', 'endswith', 'expandtabs', 'find', 'format', 'format_map', 'index', 'isalnum', 'isalpha', 'isascii', 'isdecimal', 'isdigit', 'isidentifier', 'islower', 'isnumeric', 'isprintable', 'isspace', 'istitle', 'isupper', 'join', 'ljust', 'lower', 'lstrip', 'maketrans', 'partition', 'removeprefix', 'removesuffix', 'replace', 'rfind', 'rindex', 'rjust', 'rpartition', 'rsplit', 'rstrip', 'split', 'splitlines', 'startswith', 'strip', 'swapcase', 'title', 'translate', 'upper', 'zfill']\n"
     ]
    }
   ],
   "source": [
    "print(dir(str))"
   ]
  },
  {
   "cell_type": "code",
   "execution_count": 2,
   "id": "d6a2f187-b484-4132-b83c-4584337a37c1",
   "metadata": {},
   "outputs": [
    {
     "name": "stdout",
     "output_type": "stream",
     "text": [
      "HELLO WORLD\n"
     ]
    }
   ],
   "source": [
    "a=\"Hello World\"\n",
    "b=a.upper()\n",
    "print(b)"
   ]
  },
  {
   "cell_type": "code",
   "execution_count": 5,
   "id": "c5085412-df0f-44e3-acc4-03bae641e46a",
   "metadata": {},
   "outputs": [
    {
     "name": "stdout",
     "output_type": "stream",
     "text": [
      "Hi\n"
     ]
    }
   ],
   "source": [
    "a=\"Hello\"\n",
    "b=a.replace(\"Hello\",\"Hi\")\n",
    "print(b)"
   ]
  },
  {
   "cell_type": "code",
   "execution_count": 6,
   "id": "4ba5821c-4e1f-4f55-8832-8b48ca16e3e2",
   "metadata": {},
   "outputs": [
    {
     "name": "stdout",
     "output_type": "stream",
     "text": [
      "False\n"
     ]
    }
   ],
   "source": [
    "a=\"639Headache\"\n",
    "b=a.isdigit()\n",
    "print(b)"
   ]
  },
  {
   "cell_type": "code",
   "execution_count": 9,
   "id": "93dc53af-3a34-4c03-a701-8a2cc21d8919",
   "metadata": {},
   "outputs": [
    {
     "name": "stdout",
     "output_type": "stream",
     "text": [
      "[0, 1, 2, 3, 4, 5, 6, 7, 8, 9]\n"
     ]
    }
   ],
   "source": [
    "a=range(10)\n",
    "b=list(a)\n",
    "print(b)"
   ]
  },
  {
   "cell_type": "code",
   "execution_count": 13,
   "id": "5131aea6-b20d-4c9d-a62e-5e28bfbc2cc9",
   "metadata": {},
   "outputs": [
    {
     "name": "stdout",
     "output_type": "stream",
     "text": [
      "[0, 3, 6, 9, 12, 15, 18, 21, 24, 27, 30, 33, 36, 39, 42, 45, 48, 51, 54, 57, 60, 63, 66, 69, 72, 75, 78, 81, 84, 87, 90, 93, 96, 99]\n"
     ]
    }
   ],
   "source": [
    "my_list2=list(range(0,100,3))\n",
    "print(my_list2)"
   ]
  },
  {
   "cell_type": "code",
   "execution_count": 14,
   "id": "7f168d88-97dc-47d2-ae0d-303c6d035092",
   "metadata": {},
   "outputs": [
    {
     "name": "stdout",
     "output_type": "stream",
     "text": [
      "639\n"
     ]
    }
   ],
   "source": [
    "def add_numbers(a,b):\n",
    "    result=a+b\n",
    "    return result\n",
    "print(add_numbers(500,139))"
   ]
  },
  {
   "cell_type": "code",
   "execution_count": 16,
   "id": "71cf6748-6412-4bfb-92f0-3c460d22b595",
   "metadata": {},
   "outputs": [
    {
     "name": "stdout",
     "output_type": "stream",
     "text": [
      "Sum of 2,2,0,4,0,4: 12\n",
      "Sum of 1,8,1,1,0,4: 15\n"
     ]
    }
   ],
   "source": [
    "def calculate_sum(*args):\n",
    "    total=sum(args)\n",
    "    return total\n",
    "\n",
    "print(\"Sum of 2,2,0,4,0,4:\",calculate_sum(2,2,0,4,0,4))\n",
    "print(\"Sum of 1,8,1,1,0,4:\",calculate_sum(1,8,1,1,0,4))"
   ]
  },
  {
   "cell_type": "code",
   "execution_count": 17,
   "id": "8157bed5-8527-42f5-8142-b193f30eb12f",
   "metadata": {},
   "outputs": [
    {
     "name": "stdout",
     "output_type": "stream",
     "text": [
      "8\n"
     ]
    }
   ],
   "source": [
    "add=lambda x,y:x+y\n",
    "result=add(3,5)\n",
    "print(result)"
   ]
  },
  {
   "cell_type": "code",
   "execution_count": 24,
   "id": "58f2de76-5960-4c0f-863c-ff27e9bcd5f0",
   "metadata": {},
   "outputs": [
    {
     "name": "stdout",
     "output_type": "stream",
     "text": [
      "True\n"
     ]
    }
   ],
   "source": [
    "is_palindrome=lambda s:s==s[::-1]\n",
    "print(is_palindrome(\"racecar\"))"
   ]
  },
  {
   "cell_type": "code",
   "execution_count": null,
   "id": "ba2867c5-67d3-4896-9def-b4e718228901",
   "metadata": {},
   "outputs": [],
   "source": []
  }
 ],
 "metadata": {
  "kernelspec": {
   "display_name": "Python 3 (ipykernel)",
   "language": "python",
   "name": "python3"
  },
  "language_info": {
   "codemirror_mode": {
    "name": "ipython",
    "version": 3
   },
   "file_extension": ".py",
   "mimetype": "text/x-python",
   "name": "python",
   "nbconvert_exporter": "python",
   "pygments_lexer": "ipython3",
   "version": "3.12.5"
  }
 },
 "nbformat": 4,
 "nbformat_minor": 5
}
